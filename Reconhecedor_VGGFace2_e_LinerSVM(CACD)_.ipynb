{
  "nbformat": 4,
  "nbformat_minor": 0,
  "metadata": {
    "colab": {
      "name": "Reconhecedor VGGFace2 e LinerSVM(CACD) .ipynb",
      "provenance": [],
      "collapsed_sections": [],
      "machine_shape": "hm",
      "include_colab_link": true
    },
    "kernelspec": {
      "name": "python3",
      "display_name": "Python 3"
    }
  },
  "cells": [
    {
      "cell_type": "markdown",
      "metadata": {
        "id": "view-in-github",
        "colab_type": "text"
      },
      "source": [
        "<a href=\"https://colab.research.google.com/github/goncaloneto13/Face-Recognition-using-VGGFace2-and-Linear-SVM-CACD-/blob/main/Reconhecedor_VGGFace2_e_LinerSVM(CACD)_.ipynb\" target=\"_parent\"><img src=\"https://colab.research.google.com/assets/colab-badge.svg\" alt=\"Open In Colab\"/></a>"
      ]
    },
    {
      "cell_type": "code",
      "metadata": {
        "id": "12mzYQtCt_70",
        "colab": {
          "base_uri": "https://localhost:8080/"
        },
        "outputId": "bd29a1dc-927c-44a9-f7d3-a04cb5787df4"
      },
      "source": [
        "import cv2\n",
        "import os\n",
        "import math\n",
        "import tensorflow as tf\n",
        "import numpy  as  np\n",
        "import matplotlib.pyplot as plt\n",
        " \n",
        "%tensorflow_version 1.x\n",
        "from google.colab import drive\n",
        "from keras.models import Model\n",
        "from keras.layers import Input, Conv2D, ZeroPadding2D, MaxPooling2D, Flatten, Dense, Dropout, Activation\n",
        "!pip install keras_vggface\n",
        "!pip install keras_applications\n",
        "!pip install keras_preprocessing\n",
        "from keras_vggface.vggface import VGGFace\n",
        "from sklearn.neighbors import KNeighborsClassifier\n",
        "from skimage.exposure import equalize_hist\n",
        "from scipy.spatial.distance import cosine\n",
        "from scipy.spatial.distance import euclidean\n",
        "import numpy as np\n",
        "from keras.preprocessing import image\n",
        "from keras_vggface import utils\n",
        "from sklearn.decomposition import PCA\n",
        "from sklearn.discriminant_analysis import LinearDiscriminantAnalysis as LDA\n",
        "from sklearn.svm import SVC\n",
        "import io\n",
        "from skimage.feature import hog\n",
        "drive.mount('/content/drive')\n",
        "pasta = 'drive/My Drive/CACD_VS'\n",
        "import sklearn.metrics as metrics\n",
        "from sklearn.svm import LinearSVC\n",
        "from sklearn.svm import SVC\n",
        "from keras.optimizers import SGD\n",
        "import numpy\n",
        "from keras.preprocessing.image import ImageDataGenerator\n",
        " \n",
        "osOrd = sorted(os.listdir(pasta))\n",
        "datagen=ImageDataGenerator()"
      ],
      "execution_count": null,
      "outputs": [
        {
          "output_type": "stream",
          "text": [
            "TensorFlow is already loaded. Please restart the runtime to change versions.\n",
            "Collecting keras_vggface\n",
            "  Downloading https://files.pythonhosted.org/packages/2f/7d/5f0319ebdc09ac1a2272364fa9583f5067b6f8aff93fbbf8835d81cbaad7/keras_vggface-0.6-py3-none-any.whl\n",
            "Requirement already satisfied: six>=1.9.0 in /usr/local/lib/python3.6/dist-packages (from keras_vggface) (1.15.0)\n",
            "Requirement already satisfied: h5py in /usr/local/lib/python3.6/dist-packages (from keras_vggface) (2.10.0)\n",
            "Requirement already satisfied: scipy>=0.14 in /usr/local/lib/python3.6/dist-packages (from keras_vggface) (1.4.1)\n",
            "Requirement already satisfied: pyyaml in /usr/local/lib/python3.6/dist-packages (from keras_vggface) (3.13)\n",
            "Requirement already satisfied: keras in /usr/local/lib/python3.6/dist-packages (from keras_vggface) (2.4.3)\n",
            "Requirement already satisfied: numpy>=1.9.1 in /usr/local/lib/python3.6/dist-packages (from keras_vggface) (1.19.4)\n",
            "Requirement already satisfied: pillow in /usr/local/lib/python3.6/dist-packages (from keras_vggface) (7.0.0)\n",
            "Installing collected packages: keras-vggface\n",
            "Successfully installed keras-vggface-0.6\n",
            "Collecting keras_applications\n",
            "\u001b[?25l  Downloading https://files.pythonhosted.org/packages/71/e3/19762fdfc62877ae9102edf6342d71b28fbfd9dea3d2f96a882ce099b03f/Keras_Applications-1.0.8-py3-none-any.whl (50kB)\n",
            "\u001b[K     |████████████████████████████████| 51kB 2.8MB/s \n",
            "\u001b[?25hRequirement already satisfied: h5py in /usr/local/lib/python3.6/dist-packages (from keras_applications) (2.10.0)\n",
            "Requirement already satisfied: numpy>=1.9.1 in /usr/local/lib/python3.6/dist-packages (from keras_applications) (1.19.4)\n",
            "Requirement already satisfied: six in /usr/local/lib/python3.6/dist-packages (from h5py->keras_applications) (1.15.0)\n",
            "Installing collected packages: keras-applications\n",
            "Successfully installed keras-applications-1.0.8\n",
            "Requirement already satisfied: keras_preprocessing in /usr/local/lib/python3.6/dist-packages (1.1.2)\n",
            "Requirement already satisfied: numpy>=1.9.1 in /usr/local/lib/python3.6/dist-packages (from keras_preprocessing) (1.19.4)\n",
            "Requirement already satisfied: six>=1.9.0 in /usr/local/lib/python3.6/dist-packages (from keras_preprocessing) (1.15.0)\n",
            "Mounted at /content/drive\n"
          ],
          "name": "stdout"
        }
      ]
    },
    {
      "cell_type": "code",
      "metadata": {
        "id": "I2DbvNLa8F7Z",
        "colab": {
          "base_uri": "https://localhost:8080/"
        },
        "outputId": "2627dd57-5d41-4405-fa5b-c44ed167f5a8"
      },
      "source": [
        "ext_model = VGGFace(model='senet50', include_top=False, input_shape=(224, 224, 3), pooling='avg')"
      ],
      "execution_count": null,
      "outputs": [
        {
          "output_type": "stream",
          "text": [
            "Downloading data from https://github.com/rcmalli/keras-vggface/releases/download/v2.0/rcmalli_vggface_tf_notop_senet50.h5\n",
            "104947712/104944616 [==============================] - 2s 0us/step\n"
          ],
          "name": "stdout"
        }
      ]
    },
    {
      "cell_type": "code",
      "metadata": {
        "id": "D50Bg3EZw8oZ",
        "colab": {
          "base_uri": "https://localhost:8080/"
        },
        "outputId": "b9ed9771-7914-4a3e-b81b-4db598332e8a"
      },
      "source": [
        "def retirar_descritor(n):\n",
        "  img = image.load_img(pasta + '/' + osOrd[n],target_size=(224,224))\n",
        "  x_train = image.img_to_array(img)\n",
        "  x_train = np.expand_dims(x_train, axis=0)\n",
        "  x_train = utils.preprocess_input(x_train, version=2)\n",
        "  print('.', end ='')\n",
        "  descritor = ext_model.predict(x_train,verbose=0)\n",
        "  return descritor.reshape(descritor.shape[1])\n",
        "\n",
        "arquivo = open('drive/My Drive/descritores.txt','w')\n",
        "\n",
        "descritores = []\n",
        "for i in range(0,8000):\n",
        "  arquivo.write(str(retirar_descritor(i))+'\\n')\n",
        "  descritores.append(retirar_descritor(i))\n"
      ],
      "execution_count": null,
      "outputs": [
        {
          "output_type": "stream",
          "text": [
            ".................................................................................................................................................................................................................................................................................................................................................................................................................................................................................."
          ],
          "name": "stdout"
        }
      ]
    },
    {
      "cell_type": "code",
      "metadata": {
        "id": "OQwRJCCCsfMd"
      },
      "source": [
        "np.savetxt('drive/My Drive/descritoresVs.txt',np.array(descritores))\n",
        " \n",
        "'''\n",
        "arquivo = open('drive/My Drive/descritores.txt','r')\n",
        "descritores = [] \n",
        "for l in arquivo:\n",
        "  descritores.append(np.array(l))\n",
        "  #np.asarray(x, dtype='float64')\n",
        "'''"
      ],
      "execution_count": null,
      "outputs": []
    },
    {
      "cell_type": "code",
      "metadata": {
        "id": "zvM12PwU3TWS"
      },
      "source": [
        "descritores = np.loadtxt('drive/My Drive/PIBIC/descritoresVs.txt')"
      ],
      "execution_count": null,
      "outputs": []
    },
    {
      "cell_type": "code",
      "metadata": {
        "id": "u8saKb0dR9Re",
        "colab": {
          "base_uri": "https://localhost:8080/"
        },
        "outputId": "c68fade5-eb8a-4e13-8137-ec42ca57d514"
      },
      "source": [
        "tam = 8000\n",
        "dist_pares = []\n",
        "m_scores = 0\n",
        "print(len(descritores))\n",
        "for i in range(0,tam,2):\n",
        "  print('.',end='') \n",
        "  des1 = descritores[i]\n",
        "  des2 = descritores[i+1]\n",
        "  distancia = cosine(des1, des2)\n",
        "  dist_pares.append([distancia])\n",
        "\n",
        "x_treino = []\n",
        "y_treino = []\n",
        "x_teste = []\n",
        "y_teste = []\n",
        "\n",
        "n=0\n",
        "ini = 0\n",
        "fim = ini + 400\n",
        "\n",
        "for i in range(0,int(tam/2)):\n",
        "  if i >= ini and i < fim:\n",
        "    #print(i, 'teste')\n",
        "    x_teste.append(dist_pares[i])\n",
        "    if i < ini+200:\n",
        "      y_teste.append(1)\n",
        "    else:\n",
        "      y_teste.append(0)\n",
        "  else:\n",
        "    #print(i, 'treino')\n",
        "    x_treino.append(dist_pares[i])\n",
        "    if n == 400:\n",
        "      n=0\n",
        "    if n < 200:\n",
        "      y_treino.append(1)\n",
        "    else:\n",
        "      y_treino.append(0) \n",
        "    n += 1  "
      ],
      "execution_count": null,
      "outputs": [
        {
          "output_type": "stream",
          "text": [
            "8000\n",
            "................................................................................................................................................................................................................................................................................................................................................................................................................................................................................................................................................................................................................................................................................................................................................................................................................................................................................................................................................................................................................................................................................................................................................................................................................................................................................................................................................................................................................................................................................................................................................................................................................................................................................................................................................................................................................................................................................................................................................................................................................................................................................................................................................................................................................................................................................................................................................................................................................................................................................................................................................................................................................................................................................................................................................................................................................................................................................................................................................................................................................................................................................................................................................................................................................................................................................................................................................................................................................................................................................................................................................................................................................................................................................................................................................................................................................................................................................................................................................................................................................................................................................................................................................................"
          ],
          "name": "stdout"
        }
      ]
    },
    {
      "cell_type": "code",
      "metadata": {
        "id": "m-GInUzEfOi4"
      },
      "source": [
        "acertos = 0\n",
        "#clf = LinearSVC()\n",
        "#clf = SVC()\n",
        "#lda = LDA()\n",
        "#lda.fit(x_treino,y_treino)\n",
        "scores = []\n",
        "clf = SVC(kernel='linear', probability=True)\n",
        "clf.fit(x_treino,y_treino)\n",
        "\n",
        "for i in range(0,400):\n",
        "  \n",
        "  classe  = clf.predict(np.array(x_teste[i]).reshape(1, -1))\n",
        "  scores.append(clf.decision_function(np.array(x_teste[i]).reshape(1, -1)))\n",
        " # classe = lda.predict(np.array(x_teste[i]).reshape(1, -1))\n",
        "  print('imagem: ', y_teste[i], ' : ', classe)\n",
        "  if classe == y_teste[i]:\n",
        "    acertos += 1\n",
        "\n",
        "print('acertou', acertos,' de ', 400, '  ', acertos/400*100,'%')    \n",
        "#print(x_treino)\n",
        "\n",
        "#plt.scatter(x_treino,y_treino)\n",
        "print(clf.score(x_teste, y_teste))\n",
        "#scores = clf.decision_function(x_teste)\n",
        "#print(scores)"
      ],
      "execution_count": null,
      "outputs": []
    },
    {
      "cell_type": "code",
      "metadata": {
        "id": "GwI3XJd6yY-X"
      },
      "source": [
        "vgg_face = VGGFace(model='senet50', include_top=False, input_shape=(224, 224, 3), pooling='avg')\n",
        "\n",
        "for l in vgg_face.layers[:-7]:\n",
        "    l.trainable=False\n",
        "\n",
        "d_1 = Dense(4096, activation=\"relu\",name = 'd_1')(vgg_face.output)\n",
        "#d_2 = Dense(4096, activation=\"relu\",name = 'd_2')(d_1)\n",
        "#d_3 = Dense(4096, activation=\"relu\",name = 'd_3')(d_2)\n",
        "newlayer=Dense(200, activation='softmax')(d_1)\n",
        "\n",
        "ft_model = Model(inputs=vgg_face.input, outputs=newlayer)\n",
        "ft_model.compile(optimizer=SGD(lr=0.001,decay=1e-6,momentum=0.9, nesterov=True),loss='categorical_crossentropy',metrics=['accuracy'])"
      ],
      "execution_count": null,
      "outputs": []
    },
    {
      "cell_type": "code",
      "metadata": {
        "id": "EOLAyAcwQTEv"
      },
      "source": [
        "ft_model.summary()"
      ],
      "execution_count": null,
      "outputs": []
    },
    {
      "cell_type": "code",
      "metadata": {
        "id": "97VyrZiv0gou"
      },
      "source": [
        "x_treino = []\n",
        "y_treino = []\n",
        "x_teste = []\n",
        "y_teste = []\n",
        "\n",
        "for i in range(0,400,2):\n",
        "  x_treino.append(np.array(image.load_img(pasta + '/' + osOrd[i],target_size=(224,224))))\n",
        "  y_treino.append(np.uint8(int (osOrd[i][:4])))\n",
        "\n",
        "x_treino = np.array(x_treino)\n",
        "x_treino = x_treino/255\n",
        "\n",
        "y_treino = np.array(y_treino)\n",
        "y_treino = tf.keras.utils.to_categorical(y_treino, 200) "
      ],
      "execution_count": null,
      "outputs": []
    },
    {
      "cell_type": "code",
      "metadata": {
        "id": "0JAeDYSzLQT_"
      },
      "source": [
        "train_iterator=datagen.flow(x_treino,y_treino,batch_size=32,shuffle=True)\n",
        "#test_iterator =datagen.flow(x_teste ,y_teste ,batch_size=32,shuffle=False)\n",
        "\n",
        "train_metrics = ft_model.evaluate_generator(train_iterator,verbose=1)\n",
        "#test_metrics = ft_model.evaluate_generator(test_iterator,verbose=1)\n",
        "#print('Antes(train_set):',train_metrics)\n",
        "#print('Antes(test_set): ',test_metrics)\n",
        "\n",
        "# treinamento (ajuste fino das camadas treináveis)\n",
        "#history = ext_model.fit_generator(generator=train_iterator,validation_data=test_iterator,epochs=80,verbose=1)\n",
        "history = ft_model.fit_generator(generator=train_iterator,epochs=12,verbose=1)"
      ],
      "execution_count": null,
      "outputs": []
    },
    {
      "cell_type": "code",
      "metadata": {
        "id": "bfirXLQrCDdz"
      },
      "source": [
        "plt.plot(history.history['acc'])\n",
        "plt.plot(history.history['loss'])\n",
        "plt.ylabel('Accuracy')\n",
        "plt.legend(['train', 'test'], loc='upper left')\n",
        "plt.show()"
      ],
      "execution_count": null,
      "outputs": []
    },
    {
      "cell_type": "code",
      "metadata": {
        "id": "RJ8IGFNXP3oK"
      },
      "source": [
        "tf_model = Model(inputs= ft_model.input,outputs=ft_model.get_layer('d_1').output)"
      ],
      "execution_count": null,
      "outputs": []
    },
    {
      "cell_type": "markdown",
      "metadata": {
        "id": "flTyOnDkI94m"
      },
      "source": [
        "Modelo VGGFace2 para extração de caracteristicas \n"
      ]
    },
    {
      "cell_type": "markdown",
      "metadata": {
        "id": "KgWEIMwITokJ"
      },
      "source": [
        "Retira os descritores"
      ]
    },
    {
      "cell_type": "markdown",
      "metadata": {
        "id": "-KGk-HKzkMKl"
      },
      "source": [
        "Calcula a distancia de cada par de imagem e salva nos vetores classificados como 1 para distancia de pares positivos e 0 para distancia de pares negativos \n",
        "\n",
        "As 400 primeiras imagens são de pares positivos e as proximas 400 imagens de pares negativos "
      ]
    },
    {
      "cell_type": "markdown",
      "metadata": {
        "id": "ODmhUO7RlEGg"
      },
      "source": [
        "Ajusta o classificador LinearSVM com modelos de treino "
      ]
    },
    {
      "cell_type": "markdown",
      "metadata": {
        "id": "dMrW0faX12Vs"
      },
      "source": [
        "acertou 352  de  400    88.0 %  0.88 com tf 2048\\\n",
        "acertou 354  de  400    88.5 %  0.885 co tf 4096\\\n",
        "acertou 358  de  400    89.5 %  0.895 com tf dense_2\\\n",
        "acertou 356  de  400    89.0 %  0.89 com ext"
      ]
    },
    {
      "cell_type": "markdown",
      "metadata": {
        "id": "7fpF_ki7lfR2"
      },
      "source": [
        "Curva ROC\\\n",
        "\n",
        "https://bcsiriuschen.github.io/CARC/"
      ]
    },
    {
      "cell_type": "code",
      "metadata": {
        "id": "E5tM2PJMfPMH"
      },
      "source": [
        "fpr, tpr, thresholds = metrics.roc_curve(y_teste, scores)\n",
        "roc_auc = metrics.roc_auc_score(y_teste, scores)\n",
        "#plt.figure()\n",
        "lw = 2\n",
        "plt.plot(fpr, tpr, color='darkorange',lw=lw, label='VGGFace2 + SVM (area = %0.2f)' % roc_auc)\n",
        "plt.xlim([0.0, 1.00])\n",
        "plt.ylim([0.3, 1.001])\n",
        "plt.xlabel('False Positive Rate')\n",
        "plt.ylabel('True Positive Rate')\n",
        "plt.title('ROC Curve on CACD-VS')\n",
        "plt.legend(loc=\"lower right\")\n",
        "plt.rcParams['figure.figsize'] = (8.3,7.0)\n",
        "plt.show()"
      ],
      "execution_count": null,
      "outputs": []
    },
    {
      "cell_type": "code",
      "metadata": {
        "id": "uK1M3TeeisiL"
      },
      "source": [
        "tam = 8000\n",
        "dist_pares = []\n",
        "m_scores = 0\n",
        "scores = []\n",
        "y_testet = []\n",
        "\n",
        "\n",
        "for i in range(0,tam,2):\n",
        "  print('.',end='') \n",
        "  des1 = descritores[i]\n",
        "  des2 = descritores[i+1]\n",
        "  distancia = cosine(des1, des2)\n",
        "  dist_pares.append(distancia)\n",
        "print()\n",
        "\n",
        "for p in range(0,4000,400):\n",
        "  x_treino = []\n",
        "  y_treino = []\n",
        "  x_teste = []\n",
        "  y_teste = []\n",
        "\n",
        "\n",
        "  n=0\n",
        "  ini = p\n",
        "  fim = ini + 400\n",
        "\n",
        "  for i in range(int(tam/2)):\n",
        "    if i >= ini and i < fim:\n",
        "     # print(i, 'teste', end = '  ')\n",
        "      x_teste.append([dist_pares[i]])\n",
        "      if i < ini+200:\n",
        "        y_teste.append(1)\n",
        "      else:\n",
        "        y_teste.append(0)\n",
        "    else:\n",
        "    # print(i, 'treino', end='  ')\n",
        "      x_treino.append([dist_pares[i]])\n",
        "      if n == 400:\n",
        "        n=0\n",
        "      if n < 200:\n",
        "        y_treino.append(1)\n",
        "      else:\n",
        "        y_treino.append(0) \n",
        "      n += 1  \n",
        "\n",
        "  acertos = 0\n",
        "  clf = LinearSVC(max_iter=44)\n",
        "  #clf = SVC()\n",
        "  clf.fit(x_treino,y_treino)\n",
        "\n",
        "  for i in range(0,400):\n",
        "    classe  = clf.predict(np.array(x_teste[i]).reshape(-1, 1))\n",
        "    scores.append(clf.decision_function(np.array(x_teste[i]).reshape(1, -1)))\n",
        "    #print('imagem: ', y_teste[i], ' : ', classe)\n",
        "    if classe == y_teste[i]:\n",
        "      acertos += 1\n",
        "  y_testet += y_teste\n",
        "  scor = clf.score(x_teste, y_teste)\n",
        "  m_scores += scor\n",
        "  print(int(p/400)+1, ' - acertou', acertos,' de 400 - ', scor)\n",
        "\n",
        "print(m_scores/10)"
      ],
      "execution_count": null,
      "outputs": []
    },
    {
      "cell_type": "code",
      "metadata": {
        "id": "PAE8Q8zd5NUp"
      },
      "source": [
        "fpr, tpr, thresholds = metrics.roc_curve(y_testet, scores)\n",
        "roc_auc = metrics.roc_auc_score(y_testet, scores)\n",
        "#plt.figure()\n",
        "lw = 2\n",
        "plt.plot(fpr, tpr, color='darkorange',lw=lw, label='VGGFace2 + SVM (area = %0.2f)' % roc_auc)\n",
        "plt.xlim([0.0, 1.00])\n",
        "plt.ylim([0.3, 1.001])\n",
        "plt.xlabel('False Positive Rate')\n",
        "plt.ylabel('True Positive Rate')\n",
        "plt.title('ROC Curve on CACD-VS')\n",
        "plt.legend(loc=\"lower right\")\n",
        "plt.rcParams['figure.figsize'] = (8.4,7.0)\n",
        "plt.show()"
      ],
      "execution_count": null,
      "outputs": []
    },
    {
      "cell_type": "markdown",
      "metadata": {
        "id": "3qqtIP1LzS9N"
      },
      "source": [
        "1  - acertou 354  de 400 -  0.885\\\n",
        "2  - acertou 342  de 400 -  0.855\\\n",
        "3  - acertou 334  de 400 -  0.835\\\n",
        "4  - acertou 352  de 400 -  0.88\\\n",
        "5  - acertou 356  de 400 -  0.89\\\n",
        "6  - acertou 344  de 400 -  0.86\\\n",
        "7  - acertou 335  de 400 -  0.8375\\\n",
        "8  - acertou 341  de 400 -  0.8525\\\n",
        "9  - acertou 346  de 400 -  0.865\\\n",
        "10  - acertou 346  de 400 -  0.865\\\n",
        "0.8625\n"
      ]
    },
    {
      "cell_type": "markdown",
      "metadata": {
        "id": "E5-x6tzoRXC9"
      },
      "source": [
        "'''\n",
        "for i in range(0,400,2):\n",
        "  x_teste.append(np.array(image.load_img(pasta + '/' + osOrd[i+1],target_size=(224,224))))\n",
        "  y_teste.append(np.uint8(int (osOrd[i+1][:4])))\n",
        "\n",
        "x_teste = np.array(x_teste)\n",
        "x_teste = x_teste/255\n",
        "\n",
        "y_teste = np.array(y_teste)\n",
        "y_teste = tf.keras.utils.to_categorical(y_teste, 200) \n",
        "'''"
      ]
    }
  ]
}